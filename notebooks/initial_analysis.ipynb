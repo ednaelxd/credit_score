{
 "cells": [
  {
   "cell_type": "markdown",
   "metadata": {},
   "source": [
    "# Projeto de MLOPS - Credit Score\n",
    "Problemática: Desenvolver um modelo capaz de classificar os créditos dos indivíduos, dado uma série de features.\n",
    "\n",
    "Equipe:\n",
    " - Aian Shay\n",
    " - Chrystinne F.\n",
    " - Diénert Vieira   \n",
    " - Ednael Vieira\n",
    " - Tassiane Barbosa"
   ]
  },
  {
   "cell_type": "code",
   "execution_count": 638,
   "metadata": {},
   "outputs": [],
   "source": [
    "import pandas as pd\n",
    "import numpy as np\n",
    "import seaborn as sns\n",
    "from matplotlib import pyplot as plt\n",
    "from sklearn.preprocessing import LabelEncoder"
   ]
  },
  {
   "cell_type": "code",
   "execution_count": 580,
   "metadata": {},
   "outputs": [],
   "source": [
    "pd.set_option('mode.chained_assignment', None)"
   ]
  },
  {
   "cell_type": "markdown",
   "metadata": {},
   "source": [
    "### Visão Geral"
   ]
  },
  {
   "cell_type": "code",
   "execution_count": 581,
   "metadata": {},
   "outputs": [
    {
     "name": "stderr",
     "output_type": "stream",
     "text": [
      "C:\\Users\\efvs\\AppData\\Local\\Temp/ipykernel_23704/2569449735.py:1: DtypeWarning: Columns (26) have mixed types. Specify dtype option on import or set low_memory=False.\n",
      "  df = pd.read_csv(\"../data/train.csv.zip\",compression='zip')\n"
     ]
    }
   ],
   "source": [
    "df = pd.read_csv(\"../data/train.csv.zip\",compression='zip')"
   ]
  },
  {
   "cell_type": "code",
   "execution_count": 582,
   "metadata": {},
   "outputs": [
    {
     "name": "stdout",
     "output_type": "stream",
     "text": [
      "<class 'pandas.core.frame.DataFrame'>\n",
      "RangeIndex: 100000 entries, 0 to 99999\n",
      "Data columns (total 28 columns):\n",
      " #   Column                    Non-Null Count   Dtype  \n",
      "---  ------                    --------------   -----  \n",
      " 0   ID                        100000 non-null  object \n",
      " 1   Customer_ID               100000 non-null  object \n",
      " 2   Month                     100000 non-null  object \n",
      " 3   Name                      90015 non-null   object \n",
      " 4   Age                       100000 non-null  object \n",
      " 5   SSN                       100000 non-null  object \n",
      " 6   Occupation                100000 non-null  object \n",
      " 7   Annual_Income             100000 non-null  object \n",
      " 8   Monthly_Inhand_Salary     84998 non-null   float64\n",
      " 9   Num_Bank_Accounts         100000 non-null  int64  \n",
      " 10  Num_Credit_Card           100000 non-null  int64  \n",
      " 11  Interest_Rate             100000 non-null  int64  \n",
      " 12  Num_of_Loan               100000 non-null  object \n",
      " 13  Type_of_Loan              88592 non-null   object \n",
      " 14  Delay_from_due_date       100000 non-null  int64  \n",
      " 15  Num_of_Delayed_Payment    92998 non-null   object \n",
      " 16  Changed_Credit_Limit      100000 non-null  object \n",
      " 17  Num_Credit_Inquiries      98035 non-null   float64\n",
      " 18  Credit_Mix                100000 non-null  object \n",
      " 19  Outstanding_Debt          100000 non-null  object \n",
      " 20  Credit_Utilization_Ratio  100000 non-null  float64\n",
      " 21  Credit_History_Age        90970 non-null   object \n",
      " 22  Payment_of_Min_Amount     100000 non-null  object \n",
      " 23  Total_EMI_per_month       100000 non-null  float64\n",
      " 24  Amount_invested_monthly   95521 non-null   object \n",
      " 25  Payment_Behaviour         100000 non-null  object \n",
      " 26  Monthly_Balance           98800 non-null   object \n",
      " 27  Credit_Score              100000 non-null  object \n",
      "dtypes: float64(4), int64(4), object(20)\n",
      "memory usage: 21.4+ MB\n"
     ]
    }
   ],
   "source": [
    "df.info()"
   ]
  },
  {
   "cell_type": "code",
   "execution_count": 583,
   "metadata": {},
   "outputs": [
    {
     "data": {
      "text/plain": [
       "ID                          0.00000\n",
       "Customer_ID                 0.00000\n",
       "Month                       0.00000\n",
       "Name                        0.09985\n",
       "Age                         0.00000\n",
       "SSN                         0.00000\n",
       "Occupation                  0.00000\n",
       "Annual_Income               0.00000\n",
       "Monthly_Inhand_Salary       0.15002\n",
       "Num_Bank_Accounts           0.00000\n",
       "Num_Credit_Card             0.00000\n",
       "Interest_Rate               0.00000\n",
       "Num_of_Loan                 0.00000\n",
       "Type_of_Loan                0.11408\n",
       "Delay_from_due_date         0.00000\n",
       "Num_of_Delayed_Payment      0.07002\n",
       "Changed_Credit_Limit        0.00000\n",
       "Num_Credit_Inquiries        0.01965\n",
       "Credit_Mix                  0.00000\n",
       "Outstanding_Debt            0.00000\n",
       "Credit_Utilization_Ratio    0.00000\n",
       "Credit_History_Age          0.09030\n",
       "Payment_of_Min_Amount       0.00000\n",
       "Total_EMI_per_month         0.00000\n",
       "Amount_invested_monthly     0.04479\n",
       "Payment_Behaviour           0.00000\n",
       "Monthly_Balance             0.01200\n",
       "Credit_Score                0.00000\n",
       "dtype: float64"
      ]
     },
     "execution_count": 583,
     "metadata": {},
     "output_type": "execute_result"
    }
   ],
   "source": [
    "df.isna().sum()/100000"
   ]
  },
  {
   "cell_type": "markdown",
   "metadata": {},
   "source": [
    "`Tratamento de Dados ausentes:` Será tratado individualmente, ao excluídos, metade do dataset foi perdido"
   ]
  },
  {
   "cell_type": "markdown",
   "metadata": {},
   "source": [
    "### Pré- Processamento e Análises Iniciais"
   ]
  },
  {
   "cell_type": "markdown",
   "metadata": {},
   "source": [
    "## `Tratamento das Numéricas`\n",
    "- Ajuste de tipos\n",
    "- Eliminação de erros de formatação\n",
    "- Arredondamento\n",
    "- Cálculo das correlações (Pearson)"
   ]
  },
  {
   "cell_type": "code",
   "execution_count": 584,
   "metadata": {},
   "outputs": [],
   "source": [
    "num_cols = [\n",
    "    'Monthly_Inhand_Salary',\n",
    "    'Num_Bank_Accounts',\n",
    "    'Num_Credit_Card',\n",
    "    'Interest_Rate',\n",
    "    'Delay_from_due_date',\n",
    "    'Num_Credit_Inquiries',\n",
    "    'Credit_Utilization_Ratio',\n",
    "    'Total_EMI_per_month',\n",
    "    'Changed_Credit_Limit',\n",
    "    'Amount_invested_monthly',\n",
    "    'Monthly_Balance',\n",
    "    'Num_of_Delayed_Payment',\n",
    "    'Outstanding_Debt',\n",
    "    'Annual_Income',\n",
    "    'Num_of_Loan',\n",
    "    'Age'\n",
    "]"
   ]
  },
  {
   "cell_type": "code",
   "execution_count": 585,
   "metadata": {},
   "outputs": [],
   "source": [
    "df_num = df[num_cols]\n",
    "df_cat = df.drop(num_cols,axis=1)\n",
    "\n",
    "df_num.reset_index(inplace=True)\n",
    "df_cat.reset_index(inplace=True)"
   ]
  },
  {
   "cell_type": "code",
   "execution_count": 586,
   "metadata": {},
   "outputs": [
    {
     "name": "stdout",
     "output_type": "stream",
     "text": [
      "<class 'pandas.core.frame.DataFrame'>\n",
      "RangeIndex: 100000 entries, 0 to 99999\n",
      "Data columns (total 17 columns):\n",
      " #   Column                    Non-Null Count   Dtype  \n",
      "---  ------                    --------------   -----  \n",
      " 0   index                     100000 non-null  int64  \n",
      " 1   Monthly_Inhand_Salary     84998 non-null   float64\n",
      " 2   Num_Bank_Accounts         100000 non-null  int64  \n",
      " 3   Num_Credit_Card           100000 non-null  int64  \n",
      " 4   Interest_Rate             100000 non-null  int64  \n",
      " 5   Delay_from_due_date       100000 non-null  int64  \n",
      " 6   Num_Credit_Inquiries      98035 non-null   float64\n",
      " 7   Credit_Utilization_Ratio  100000 non-null  float64\n",
      " 8   Total_EMI_per_month       100000 non-null  float64\n",
      " 9   Changed_Credit_Limit      100000 non-null  object \n",
      " 10  Amount_invested_monthly   95521 non-null   object \n",
      " 11  Monthly_Balance           98800 non-null   object \n",
      " 12  Num_of_Delayed_Payment    92998 non-null   object \n",
      " 13  Outstanding_Debt          100000 non-null  object \n",
      " 14  Annual_Income             100000 non-null  object \n",
      " 15  Num_of_Loan               100000 non-null  object \n",
      " 16  Age                       100000 non-null  object \n",
      "dtypes: float64(4), int64(5), object(8)\n",
      "memory usage: 13.0+ MB\n"
     ]
    }
   ],
   "source": [
    "df_num.info()"
   ]
  },
  {
   "cell_type": "code",
   "execution_count": 587,
   "metadata": {},
   "outputs": [],
   "source": [
    "num_cols_issue = [\n",
    "    'Changed_Credit_Limit', 'Amount_invested_monthly','Monthly_Balance', 'Num_of_Delayed_Payment', 'Outstanding_Debt',\n",
    "    'Annual_Income','Num_of_Loan','Age'\n",
    "]"
   ]
  },
  {
   "cell_type": "code",
   "execution_count": 588,
   "metadata": {},
   "outputs": [],
   "source": [
    "df_num.drop('index',axis=1,inplace=True)"
   ]
  },
  {
   "cell_type": "code",
   "execution_count": 589,
   "metadata": {},
   "outputs": [
    {
     "data": {
      "text/html": [
       "<div>\n",
       "<style scoped>\n",
       "    .dataframe tbody tr th:only-of-type {\n",
       "        vertical-align: middle;\n",
       "    }\n",
       "\n",
       "    .dataframe tbody tr th {\n",
       "        vertical-align: top;\n",
       "    }\n",
       "\n",
       "    .dataframe thead th {\n",
       "        text-align: right;\n",
       "    }\n",
       "</style>\n",
       "<table border=\"1\" class=\"dataframe\">\n",
       "  <thead>\n",
       "    <tr style=\"text-align: right;\">\n",
       "      <th></th>\n",
       "      <th>Monthly_Inhand_Salary</th>\n",
       "      <th>Num_Bank_Accounts</th>\n",
       "      <th>Num_Credit_Card</th>\n",
       "      <th>Interest_Rate</th>\n",
       "      <th>Delay_from_due_date</th>\n",
       "      <th>Num_Credit_Inquiries</th>\n",
       "      <th>Credit_Utilization_Ratio</th>\n",
       "      <th>Total_EMI_per_month</th>\n",
       "      <th>Changed_Credit_Limit</th>\n",
       "      <th>Amount_invested_monthly</th>\n",
       "      <th>Monthly_Balance</th>\n",
       "      <th>Num_of_Delayed_Payment</th>\n",
       "      <th>Outstanding_Debt</th>\n",
       "      <th>Annual_Income</th>\n",
       "      <th>Num_of_Loan</th>\n",
       "      <th>Age</th>\n",
       "    </tr>\n",
       "  </thead>\n",
       "  <tbody>\n",
       "    <tr>\n",
       "      <th>0</th>\n",
       "      <td>1824.843333</td>\n",
       "      <td>3</td>\n",
       "      <td>4</td>\n",
       "      <td>3</td>\n",
       "      <td>3</td>\n",
       "      <td>4.0</td>\n",
       "      <td>26.822620</td>\n",
       "      <td>49.574949</td>\n",
       "      <td>11.27</td>\n",
       "      <td>80.41529543900253</td>\n",
       "      <td>312.49408867943663</td>\n",
       "      <td>7</td>\n",
       "      <td>809.98</td>\n",
       "      <td>19114.12</td>\n",
       "      <td>4</td>\n",
       "      <td>23</td>\n",
       "    </tr>\n",
       "    <tr>\n",
       "      <th>1</th>\n",
       "      <td>NaN</td>\n",
       "      <td>3</td>\n",
       "      <td>4</td>\n",
       "      <td>3</td>\n",
       "      <td>-1</td>\n",
       "      <td>4.0</td>\n",
       "      <td>31.944960</td>\n",
       "      <td>49.574949</td>\n",
       "      <td>11.27</td>\n",
       "      <td>118.28022162236736</td>\n",
       "      <td>284.62916249607184</td>\n",
       "      <td>NaN</td>\n",
       "      <td>809.98</td>\n",
       "      <td>19114.12</td>\n",
       "      <td>4</td>\n",
       "      <td>23</td>\n",
       "    </tr>\n",
       "    <tr>\n",
       "      <th>2</th>\n",
       "      <td>NaN</td>\n",
       "      <td>3</td>\n",
       "      <td>4</td>\n",
       "      <td>3</td>\n",
       "      <td>3</td>\n",
       "      <td>4.0</td>\n",
       "      <td>28.609352</td>\n",
       "      <td>49.574949</td>\n",
       "      <td>_</td>\n",
       "      <td>81.699521264648</td>\n",
       "      <td>331.2098628537912</td>\n",
       "      <td>7</td>\n",
       "      <td>809.98</td>\n",
       "      <td>19114.12</td>\n",
       "      <td>4</td>\n",
       "      <td>-500</td>\n",
       "    </tr>\n",
       "    <tr>\n",
       "      <th>3</th>\n",
       "      <td>NaN</td>\n",
       "      <td>3</td>\n",
       "      <td>4</td>\n",
       "      <td>3</td>\n",
       "      <td>5</td>\n",
       "      <td>4.0</td>\n",
       "      <td>31.377862</td>\n",
       "      <td>49.574949</td>\n",
       "      <td>6.27</td>\n",
       "      <td>199.4580743910713</td>\n",
       "      <td>223.45130972736786</td>\n",
       "      <td>4</td>\n",
       "      <td>809.98</td>\n",
       "      <td>19114.12</td>\n",
       "      <td>4</td>\n",
       "      <td>23</td>\n",
       "    </tr>\n",
       "    <tr>\n",
       "      <th>4</th>\n",
       "      <td>1824.843333</td>\n",
       "      <td>3</td>\n",
       "      <td>4</td>\n",
       "      <td>3</td>\n",
       "      <td>6</td>\n",
       "      <td>4.0</td>\n",
       "      <td>24.797347</td>\n",
       "      <td>49.574949</td>\n",
       "      <td>11.27</td>\n",
       "      <td>41.420153086217326</td>\n",
       "      <td>341.48923103222177</td>\n",
       "      <td>NaN</td>\n",
       "      <td>809.98</td>\n",
       "      <td>19114.12</td>\n",
       "      <td>4</td>\n",
       "      <td>23</td>\n",
       "    </tr>\n",
       "  </tbody>\n",
       "</table>\n",
       "</div>"
      ],
      "text/plain": [
       "   Monthly_Inhand_Salary  Num_Bank_Accounts  Num_Credit_Card  Interest_Rate  \\\n",
       "0            1824.843333                  3                4              3   \n",
       "1                    NaN                  3                4              3   \n",
       "2                    NaN                  3                4              3   \n",
       "3                    NaN                  3                4              3   \n",
       "4            1824.843333                  3                4              3   \n",
       "\n",
       "   Delay_from_due_date  Num_Credit_Inquiries  Credit_Utilization_Ratio  \\\n",
       "0                    3                   4.0                 26.822620   \n",
       "1                   -1                   4.0                 31.944960   \n",
       "2                    3                   4.0                 28.609352   \n",
       "3                    5                   4.0                 31.377862   \n",
       "4                    6                   4.0                 24.797347   \n",
       "\n",
       "   Total_EMI_per_month Changed_Credit_Limit Amount_invested_monthly  \\\n",
       "0            49.574949                11.27       80.41529543900253   \n",
       "1            49.574949                11.27      118.28022162236736   \n",
       "2            49.574949                    _         81.699521264648   \n",
       "3            49.574949                 6.27       199.4580743910713   \n",
       "4            49.574949                11.27      41.420153086217326   \n",
       "\n",
       "      Monthly_Balance Num_of_Delayed_Payment Outstanding_Debt Annual_Income  \\\n",
       "0  312.49408867943663                      7           809.98      19114.12   \n",
       "1  284.62916249607184                    NaN           809.98      19114.12   \n",
       "2   331.2098628537912                      7           809.98      19114.12   \n",
       "3  223.45130972736786                      4           809.98      19114.12   \n",
       "4  341.48923103222177                    NaN           809.98      19114.12   \n",
       "\n",
       "  Num_of_Loan   Age  \n",
       "0           4    23  \n",
       "1           4    23  \n",
       "2           4  -500  \n",
       "3           4    23  \n",
       "4           4    23  "
      ]
     },
     "execution_count": 589,
     "metadata": {},
     "output_type": "execute_result"
    }
   ],
   "source": [
    "df_num.head()"
   ]
  },
  {
   "cell_type": "code",
   "execution_count": 590,
   "metadata": {},
   "outputs": [],
   "source": [
    "for coluna in num_cols_issue:\n",
    "    df_num.loc[:,coluna] = df_num[coluna].str.replace('_','')"
   ]
  },
  {
   "cell_type": "code",
   "execution_count": 591,
   "metadata": {},
   "outputs": [],
   "source": [
    "for coluna in num_cols_issue:\n",
    "    df_num.loc[:,coluna] = pd.to_numeric(df_num[coluna], downcast='float', errors='coerce')"
   ]
  },
  {
   "cell_type": "code",
   "execution_count": 592,
   "metadata": {},
   "outputs": [
    {
     "name": "stdout",
     "output_type": "stream",
     "text": [
      "Monthly_Inhand_Salary       15002\n",
      "Num_Bank_Accounts               0\n",
      "Num_Credit_Card                 0\n",
      "Interest_Rate                   0\n",
      "Delay_from_due_date             0\n",
      "Num_Credit_Inquiries         1965\n",
      "Credit_Utilization_Ratio        0\n",
      "Total_EMI_per_month             0\n",
      "Changed_Credit_Limit         2091\n",
      "Amount_invested_monthly      4479\n",
      "Monthly_Balance              2868\n",
      "Num_of_Delayed_Payment       7002\n",
      "Outstanding_Debt                0\n",
      "Annual_Income                   0\n",
      "Num_of_Loan                     0\n",
      "Age                             0\n",
      "dtype: int64\n"
     ]
    }
   ],
   "source": [
    "print(df_num.isna().sum())"
   ]
  },
  {
   "cell_type": "code",
   "execution_count": 593,
   "metadata": {},
   "outputs": [],
   "source": [
    "for coluna in df_num.columns:\n",
    "    df_num[coluna] = df_num[coluna].fillna(df_num[coluna].mean())"
   ]
  },
  {
   "cell_type": "code",
   "execution_count": 594,
   "metadata": {},
   "outputs": [
    {
     "name": "stdout",
     "output_type": "stream",
     "text": [
      "Monthly_Inhand_Salary       0\n",
      "Num_Bank_Accounts           0\n",
      "Num_Credit_Card             0\n",
      "Interest_Rate               0\n",
      "Delay_from_due_date         0\n",
      "Num_Credit_Inquiries        0\n",
      "Credit_Utilization_Ratio    0\n",
      "Total_EMI_per_month         0\n",
      "Changed_Credit_Limit        0\n",
      "Amount_invested_monthly     0\n",
      "Monthly_Balance             0\n",
      "Num_of_Delayed_Payment      0\n",
      "Outstanding_Debt            0\n",
      "Annual_Income               0\n",
      "Num_of_Loan                 0\n",
      "Age                         0\n",
      "dtype: int64\n"
     ]
    }
   ],
   "source": [
    "print(df_num.isna().sum())"
   ]
  },
  {
   "cell_type": "markdown",
   "metadata": {},
   "source": [
    "### Correlações entre as features Numéricas"
   ]
  },
  {
   "cell_type": "code",
   "execution_count": 595,
   "metadata": {},
   "outputs": [
    {
     "data": {
      "text/plain": [
       "<AxesSubplot:>"
      ]
     },
     "execution_count": 595,
     "metadata": {},
     "output_type": "execute_result"
    },
    {
     "data": {
      "image/png": "[encoded data removed]",
      "text/plain": [
       "<Figure size 1080x720 with 2 Axes>"
      ]
     },
     "metadata": {
      "needs_background": "light"
     },
     "output_type": "display_data"
    }
   ],
   "source": [
    "fig = plt.gcf()\n",
    "fig.set_size_inches(15,10)\n",
    "sns.heatmap(df_num.corr(),annot=True,cmap=\"Greens\")"
   ]
  },
  {
   "cell_type": "markdown",
   "metadata": {},
   "source": [
    "## `Categóricas`\n",
    "- Tratamento de erros\n",
    "- Remoção de desnecessárias\n",
    "- Cálculo das correçaões (V de Cramer)\n",
    "- Encoding (Ordinal e One-Hot)"
   ]
  },
  {
   "cell_type": "code",
   "execution_count": 597,
   "metadata": {},
   "outputs": [
    {
     "data": {
      "text/plain": [
       "Index(['index', 'ID', 'Customer_ID', 'Month', 'Name', 'SSN', 'Occupation',\n",
       "       'Type_of_Loan', 'Credit_Mix', 'Credit_History_Age',\n",
       "       'Payment_of_Min_Amount', 'Payment_Behaviour', 'Credit_Score'],\n",
       "      dtype='object')"
      ]
     },
     "execution_count": 597,
     "metadata": {},
     "output_type": "execute_result"
    }
   ],
   "source": [
    "df_cat.columns"
   ]
  },
  {
   "cell_type": "markdown",
   "metadata": {},
   "source": [
    "Ajuste.1 - `Exclusão`"
   ]
  },
  {
   "cell_type": "code",
   "execution_count": 598,
   "metadata": {},
   "outputs": [],
   "source": [
    "df_cat.drop(['ID','index','Name','Customer_ID','SSN'],axis=1,inplace=True)"
   ]
  },
  {
   "cell_type": "code",
   "execution_count": 599,
   "metadata": {},
   "outputs": [
    {
     "data": {
      "text/html": [
       "<div>\n",
       "<style scoped>\n",
       "    .dataframe tbody tr th:only-of-type {\n",
       "        vertical-align: middle;\n",
       "    }\n",
       "\n",
       "    .dataframe tbody tr th {\n",
       "        vertical-align: top;\n",
       "    }\n",
       "\n",
       "    .dataframe thead th {\n",
       "        text-align: right;\n",
       "    }\n",
       "</style>\n",
       "<table border=\"1\" class=\"dataframe\">\n",
       "  <thead>\n",
       "    <tr style=\"text-align: right;\">\n",
       "      <th></th>\n",
       "      <th>Month</th>\n",
       "      <th>Occupation</th>\n",
       "      <th>Type_of_Loan</th>\n",
       "      <th>Credit_Mix</th>\n",
       "      <th>Credit_History_Age</th>\n",
       "      <th>Payment_of_Min_Amount</th>\n",
       "      <th>Payment_Behaviour</th>\n",
       "      <th>Credit_Score</th>\n",
       "    </tr>\n",
       "  </thead>\n",
       "  <tbody>\n",
       "    <tr>\n",
       "      <th>0</th>\n",
       "      <td>January</td>\n",
       "      <td>Scientist</td>\n",
       "      <td>Auto Loan, Credit-Builder Loan, Personal Loan,...</td>\n",
       "      <td>_</td>\n",
       "      <td>22 Years and 1 Months</td>\n",
       "      <td>No</td>\n",
       "      <td>High_spent_Small_value_payments</td>\n",
       "      <td>Good</td>\n",
       "    </tr>\n",
       "    <tr>\n",
       "      <th>1</th>\n",
       "      <td>February</td>\n",
       "      <td>Scientist</td>\n",
       "      <td>Auto Loan, Credit-Builder Loan, Personal Loan,...</td>\n",
       "      <td>Good</td>\n",
       "      <td>NaN</td>\n",
       "      <td>No</td>\n",
       "      <td>Low_spent_Large_value_payments</td>\n",
       "      <td>Good</td>\n",
       "    </tr>\n",
       "  </tbody>\n",
       "</table>\n",
       "</div>"
      ],
      "text/plain": [
       "      Month Occupation                                       Type_of_Loan  \\\n",
       "0   January  Scientist  Auto Loan, Credit-Builder Loan, Personal Loan,...   \n",
       "1  February  Scientist  Auto Loan, Credit-Builder Loan, Personal Loan,...   \n",
       "\n",
       "  Credit_Mix     Credit_History_Age Payment_of_Min_Amount  \\\n",
       "0          _  22 Years and 1 Months                    No   \n",
       "1       Good                    NaN                    No   \n",
       "\n",
       "                 Payment_Behaviour Credit_Score  \n",
       "0  High_spent_Small_value_payments         Good  \n",
       "1   Low_spent_Large_value_payments         Good  "
      ]
     },
     "execution_count": 599,
     "metadata": {},
     "output_type": "execute_result"
    }
   ],
   "source": [
    "df_cat.head(2)"
   ]
  },
  {
   "cell_type": "code",
   "execution_count": 600,
   "metadata": {},
   "outputs": [
    {
     "data": {
      "text/plain": [
       "Month                        0\n",
       "Occupation                   0\n",
       "Type_of_Loan             11408\n",
       "Credit_Mix                   0\n",
       "Credit_History_Age        9030\n",
       "Payment_of_Min_Amount        0\n",
       "Payment_Behaviour            0\n",
       "Credit_Score                 0\n",
       "dtype: int64"
      ]
     },
     "execution_count": 600,
     "metadata": {},
     "output_type": "execute_result"
    }
   ],
   "source": [
    "df_cat.isna().sum()"
   ]
  },
  {
   "cell_type": "markdown",
   "metadata": {},
   "source": [
    "Ajuste.2 - `Payment_Behaviour`"
   ]
  },
  {
   "cell_type": "code",
   "execution_count": 601,
   "metadata": {},
   "outputs": [
    {
     "data": {
      "text/plain": [
       "Low_spent_Small_value_payments      25513\n",
       "High_spent_Medium_value_payments    17540\n",
       "Low_spent_Medium_value_payments     13861\n",
       "High_spent_Large_value_payments     13721\n",
       "High_spent_Small_value_payments     11340\n",
       "Low_spent_Large_value_payments      10425\n",
       "!@9#%8                               7600\n",
       "Name: Payment_Behaviour, dtype: int64"
      ]
     },
     "execution_count": 601,
     "metadata": {},
     "output_type": "execute_result"
    }
   ],
   "source": [
    "df_cat['Payment_Behaviour'].value_counts()"
   ]
  },
  {
   "cell_type": "code",
   "execution_count": 602,
   "metadata": {},
   "outputs": [],
   "source": [
    "for i in range(len(df)):\n",
    "    if df_cat[\"Payment_Behaviour\"][i] == \"!@9#%8\":\n",
    "        df_cat[\"Payment_Behaviour\"][i] = \"Other\""
   ]
  },
  {
   "cell_type": "code",
   "execution_count": 649,
   "metadata": {},
   "outputs": [
    {
     "data": {
      "text/plain": [
       "6"
      ]
     },
     "execution_count": 649,
     "metadata": {},
     "output_type": "execute_result"
    }
   ],
   "source": [
    "random.choices([0,1,2,3,4,5,6])[0]"
   ]
  },
  {
   "cell_type": "code",
   "execution_count": 651,
   "metadata": {},
   "outputs": [],
   "source": [
    "# De forma que quanto maior o numero atribuido, melhor é o perfil para concessão de crédito\n",
    "def ordinal_encoder(value):\n",
    "    if value == 'Low_spent_Small_value_payments ':\n",
    "        return 0\n",
    "    elif value == 'High_spent_Medium_value_payments':\n",
    "        return 4\n",
    "    elif value == 'Low_spent_Medium_value_payments':\n",
    "        return 1\n",
    "    elif value == 'High_spent_Large_value_payments':\n",
    "        return 6\n",
    "    elif value == 'High_spent_Small_value_payments':\n",
    "        return 3\n",
    "    elif value == 'Low_spent_Large_value_payments':\n",
    "        return 2\n",
    "    elif value == \"Other\":\n",
    "        return random.choices([0,1,2,3,4,5,6])[0]"
   ]
  },
  {
   "cell_type": "code",
   "execution_count": 653,
   "metadata": {},
   "outputs": [],
   "source": [
    "df_cat[\"Payment_Behaviour\"] = df_cat[\"Payment_Behaviour\"].apply(ordinal_encoder)"
   ]
  },
  {
   "cell_type": "markdown",
   "metadata": {},
   "source": [
    "Ajuste.3 - `Credit_History_Age`\n",
    "- Na verdade, deve ser uma variável numérica"
   ]
  },
  {
   "cell_type": "code",
   "execution_count": 604,
   "metadata": {},
   "outputs": [
    {
     "data": {
      "text/plain": [
       "15 Years and 11 Months    446\n",
       "19 Years and 4 Months     445\n",
       "19 Years and 5 Months     444\n",
       "17 Years and 11 Months    443\n",
       "19 Years and 3 Months     441\n",
       "                         ... \n",
       "0 Years and 3 Months       20\n",
       "0 Years and 2 Months       15\n",
       "33 Years and 7 Months      14\n",
       "33 Years and 8 Months      12\n",
       "0 Years and 1 Months        2\n",
       "Name: Credit_History_Age, Length: 404, dtype: int64"
      ]
     },
     "execution_count": 604,
     "metadata": {},
     "output_type": "execute_result"
    }
   ],
   "source": [
    "df_cat['Credit_History_Age'].value_counts()"
   ]
  },
  {
   "cell_type": "code",
   "execution_count": 605,
   "metadata": {},
   "outputs": [
    {
     "data": {
      "text/plain": [
       "0         22 Years and 1 Months\n",
       "1                           NaN\n",
       "2         22 Years and 3 Months\n",
       "3         22 Years and 4 Months\n",
       "4         22 Years and 5 Months\n",
       "                  ...          \n",
       "99995     31 Years and 6 Months\n",
       "99996     31 Years and 7 Months\n",
       "99997     31 Years and 8 Months\n",
       "99998     31 Years and 9 Months\n",
       "99999    31 Years and 10 Months\n",
       "Name: Credit_History_Age, Length: 100000, dtype: object"
      ]
     },
     "execution_count": 605,
     "metadata": {},
     "output_type": "execute_result"
    }
   ],
   "source": [
    "df.loc[:,\"Credit_History_Age\"]"
   ]
  },
  {
   "cell_type": "code",
   "execution_count": 606,
   "metadata": {},
   "outputs": [],
   "source": [
    "df_cat['Credit_History_Age'].fillna(0, inplace=True)"
   ]
  },
  {
   "cell_type": "code",
   "execution_count": 627,
   "metadata": {},
   "outputs": [],
   "source": [
    "import re\n",
    "for linha in range(len(df_cat)):\n",
    "    frase = df_cat.iloc[linha,4]\n",
    "    if frase != 0:\n",
    "        meses = 0\n",
    "        meses += int(frase.split(\"Years\")[0]) * 12\n",
    "        meses += int((re.match(r\"^.*and (.*) Months.*$\", frase)).group(1))\n",
    "        df_cat[\"Credit_History_Age\"][linha] = meses"
   ]
  },
  {
   "cell_type": "code",
   "execution_count": 628,
   "metadata": {},
   "outputs": [
    {
     "data": {
      "text/plain": [
       "0        265\n",
       "1          0\n",
       "2        267\n",
       "3        268\n",
       "4        269\n",
       "        ... \n",
       "99995    378\n",
       "99996    379\n",
       "99997    380\n",
       "99998    381\n",
       "99999    382\n",
       "Name: Credit_History_Age, Length: 100000, dtype: object"
      ]
     },
     "execution_count": 628,
     "metadata": {},
     "output_type": "execute_result"
    }
   ],
   "source": [
    "df_cat.loc[:,\"Credit_History_Age\"]"
   ]
  },
  {
   "cell_type": "markdown",
   "metadata": {},
   "source": [
    "Ajuste.4 - `Credit_Mix // Payment_of_Min_Amount // Credit_Score`\n",
    "- Distribuição percentual dos ausentes"
   ]
  },
  {
   "cell_type": "code",
   "execution_count": 609,
   "metadata": {},
   "outputs": [
    {
     "data": {
      "text/plain": [
       "Standard    0.36479\n",
       "Good        0.24337\n",
       "_           0.20195\n",
       "Bad         0.18989\n",
       "Name: Credit_Mix, dtype: float64"
      ]
     },
     "execution_count": 609,
     "metadata": {},
     "output_type": "execute_result"
    }
   ],
   "source": [
    "df_cat['Credit_Mix'].value_counts(normalize=True)"
   ]
  },
  {
   "cell_type": "code",
   "execution_count": 610,
   "metadata": {},
   "outputs": [
    {
     "data": {
      "text/plain": [
       "Standard    0.457102\n",
       "Good        0.304956\n",
       "Bad         0.237942\n",
       "Name: Credit_Mix, dtype: float64"
      ]
     },
     "execution_count": 610,
     "metadata": {},
     "output_type": "execute_result"
    }
   ],
   "source": [
    "df_cat[df_cat['Credit_Mix']!='_']['Credit_Mix'].value_counts(normalize=True)"
   ]
  },
  {
   "cell_type": "code",
   "execution_count": 611,
   "metadata": {},
   "outputs": [],
   "source": [
    "import random"
   ]
  },
  {
   "cell_type": "code",
   "execution_count": 612,
   "metadata": {},
   "outputs": [],
   "source": [
    "count = 0\n",
    "for avaliation in df_cat['Credit_Mix']:\n",
    "    if avaliation == '_':\n",
    "        df_cat['Credit_Mix'][count] = random.choices(['Good','Bad','Standard'],weights=[0.45,0.27,0.26])\n",
    "    count+=1"
   ]
  },
  {
   "cell_type": "code",
   "execution_count": 613,
   "metadata": {},
   "outputs": [
    {
     "data": {
      "text/plain": [
       "Standard      36479\n",
       "Good          24337\n",
       "Bad           18989\n",
       "[Good]         9373\n",
       "[Bad]          5521\n",
       "[Standard]     5301\n",
       "Name: Credit_Mix, dtype: int64"
      ]
     },
     "execution_count": 613,
     "metadata": {},
     "output_type": "execute_result"
    }
   ],
   "source": [
    "df_cat['Credit_Mix'].value_counts()"
   ]
  },
  {
   "cell_type": "code",
   "execution_count": 614,
   "metadata": {},
   "outputs": [],
   "source": [
    "def ordinal_encoder2(value):\n",
    "    if value == 'Bad' or value == '[Bad]' or value == 'Poor':\n",
    "        return 0\n",
    "    elif value == 'Standard' or value == '[Standard]':\n",
    "        return 1\n",
    "    elif value == 'Good' or value == '[Good]':\n",
    "        return 2"
   ]
  },
  {
   "cell_type": "code",
   "execution_count": 615,
   "metadata": {},
   "outputs": [
    {
     "data": {
      "text/plain": [
       "Yes    0.594661\n",
       "No     0.405339\n",
       "Name: Payment_of_Min_Amount, dtype: float64"
      ]
     },
     "execution_count": 615,
     "metadata": {},
     "output_type": "execute_result"
    }
   ],
   "source": [
    "df_cat[df_cat['Payment_of_Min_Amount']!='NM']['Payment_of_Min_Amount'].value_counts(normalize=True)"
   ]
  },
  {
   "cell_type": "code",
   "execution_count": 616,
   "metadata": {},
   "outputs": [],
   "source": [
    "count = 0\n",
    "for avaliation in df_cat['Payment_of_Min_Amount']:\n",
    "    if avaliation == '_':\n",
    "        df_cat['Payment_of_Min_Amount'][count] = random.choices(['Yes','No'],weights=[0.594661,0.405339])\n",
    "    count+=1"
   ]
  },
  {
   "cell_type": "code",
   "execution_count": 617,
   "metadata": {},
   "outputs": [],
   "source": [
    "def ordinal_encoder3(value):\n",
    "    if value == 'No' or value == '[No]':\n",
    "        return 0\n",
    "    elif value == 'Yes' or value == '[Yes]':\n",
    "        return 1"
   ]
  },
  {
   "cell_type": "code",
   "execution_count": 618,
   "metadata": {},
   "outputs": [],
   "source": [
    "df_cat['Credit_Mix'] = df_cat['Credit_Mix'].apply(ordinal_encoder2)\n",
    "df_cat['Payment_of_Min_Amount'] = df_cat['Payment_of_Min_Amount'].apply(ordinal_encoder3)"
   ]
  },
  {
   "cell_type": "code",
   "execution_count": 619,
   "metadata": {},
   "outputs": [
    {
     "data": {
      "text/plain": [
       "Standard    53174\n",
       "Poor        28998\n",
       "Good        17828\n",
       "Name: Credit_Score, dtype: int64"
      ]
     },
     "execution_count": 619,
     "metadata": {},
     "output_type": "execute_result"
    }
   ],
   "source": [
    "df_cat['Credit_Score'].value_counts()"
   ]
  },
  {
   "cell_type": "code",
   "execution_count": 620,
   "metadata": {},
   "outputs": [],
   "source": [
    "df_cat['Credit_Score'] = df_cat['Credit_Score'].apply(ordinal_encoder2)"
   ]
  },
  {
   "cell_type": "markdown",
   "metadata": {},
   "source": [
    "Ajuste.5 - `Occupation`"
   ]
  },
  {
   "cell_type": "code",
   "execution_count": 621,
   "metadata": {},
   "outputs": [
    {
     "data": {
      "text/plain": [
       "_______          7062\n",
       "Lawyer           6575\n",
       "Architect        6355\n",
       "Engineer         6350\n",
       "Scientist        6299\n",
       "Mechanic         6291\n",
       "Accountant       6271\n",
       "Developer        6235\n",
       "Media_Manager    6232\n",
       "Teacher          6215\n",
       "Entrepreneur     6174\n",
       "Doctor           6087\n",
       "Journalist       6085\n",
       "Manager          5973\n",
       "Musician         5911\n",
       "Writer           5885\n",
       "Name: Occupation, dtype: int64"
      ]
     },
     "execution_count": 621,
     "metadata": {},
     "output_type": "execute_result"
    }
   ],
   "source": [
    "df_cat['Occupation'].value_counts()"
   ]
  },
  {
   "cell_type": "code",
   "execution_count": 622,
   "metadata": {},
   "outputs": [
    {
     "data": {
      "text/plain": [
       "array(['Scientist', '_______', 'Teacher', 'Engineer', 'Entrepreneur',\n",
       "       'Developer', 'Lawyer', 'Media_Manager', 'Doctor', 'Journalist',\n",
       "       'Manager', 'Accountant', 'Musician', 'Mechanic', 'Writer',\n",
       "       'Architect'], dtype=object)"
      ]
     },
     "execution_count": 622,
     "metadata": {},
     "output_type": "execute_result"
    }
   ],
   "source": [
    "df_cat['Occupation'].unique()"
   ]
  },
  {
   "cell_type": "code",
   "execution_count": 623,
   "metadata": {},
   "outputs": [],
   "source": [
    "jobs = ['Scientist', 'Teacher', 'Engineer', 'Entrepreneur','Developer', 'Lawyer', 'Media_Manager', 'Doctor', 'Journalist',\n",
    "       'Manager', 'Accountant', 'Musician', 'Mechanic', 'Writer','Architect']"
   ]
  },
  {
   "cell_type": "code",
   "execution_count": 625,
   "metadata": {},
   "outputs": [],
   "source": [
    "count = 0\n",
    "for avaliation in df_cat['Occupation']:\n",
    "    if avaliation == '_______':\n",
    "        df_cat['Occupation'][count] = random.choices(jobs)[0]\n",
    "    count+=1"
   ]
  },
  {
   "cell_type": "code",
   "execution_count": 631,
   "metadata": {},
   "outputs": [
    {
     "data": {
      "text/plain": [
       "Lawyer           7037\n",
       "Architect        6877\n",
       "Engineer         6816\n",
       "Mechanic         6768\n",
       "Scientist        6750\n",
       "Developer        6728\n",
       "Accountant       6723\n",
       "Media_Manager    6687\n",
       "Teacher          6678\n",
       "Entrepreneur     6638\n",
       "Doctor           6576\n",
       "Journalist       6561\n",
       "Manager          6441\n",
       "Musician         6370\n",
       "Writer           6350\n",
       "Name: Occupation, dtype: int64"
      ]
     },
     "execution_count": 631,
     "metadata": {},
     "output_type": "execute_result"
    }
   ],
   "source": [
    "df_cat['Occupation'].value_counts()"
   ]
  },
  {
   "cell_type": "markdown",
   "metadata": {},
   "source": [
    "Como pretendíamos, distribuimos aletoriamente nas ocorrencias de '_____', as outras profissões"
   ]
  },
  {
   "cell_type": "code",
   "execution_count": 639,
   "metadata": {},
   "outputs": [],
   "source": [
    "le1 = LabelEncoder()\n",
    "df_cat['Occupation'] = le1.fit_transform(df_cat['Occupation'].values)"
   ]
  },
  {
   "cell_type": "markdown",
   "metadata": {},
   "source": [
    "Ajuste.6 - `Month & Loan`"
   ]
  },
  {
   "cell_type": "code",
   "execution_count": 642,
   "metadata": {},
   "outputs": [],
   "source": [
    "le2 = LabelEncoder()\n",
    "df_cat['Month'] = le2.fit_transform(df_cat['Month'].values)"
   ]
  },
  {
   "cell_type": "code",
   "execution_count": 644,
   "metadata": {},
   "outputs": [],
   "source": [
    "le3 = LabelEncoder()\n",
    "df_cat['Type_of_Loan'] = le3.fit_transform(df_cat['Type_of_Loan'].values)"
   ]
  },
  {
   "cell_type": "code",
   "execution_count": 658,
   "metadata": {},
   "outputs": [
    {
     "data": {
      "text/plain": [
       "Month                    0\n",
       "Occupation               0\n",
       "Type_of_Loan             0\n",
       "Credit_Mix               0\n",
       "Credit_History_Age       0\n",
       "Payment_of_Min_Amount    0\n",
       "Payment_Behaviour        0\n",
       "Credit_Score             0\n",
       "dtype: int64"
      ]
     },
     "execution_count": 658,
     "metadata": {},
     "output_type": "execute_result"
    }
   ],
   "source": [
    "df_cat.isna().sum()"
   ]
  },
  {
   "cell_type": "code",
   "execution_count": 656,
   "metadata": {},
   "outputs": [],
   "source": [
    "issued_cat = ['Credit_Mix','Payment_of_Min_Amount','Payment_Behaviour']"
   ]
  },
  {
   "cell_type": "code",
   "execution_count": 657,
   "metadata": {},
   "outputs": [],
   "source": [
    "for coluna in issued_cat:\n",
    "    df_cat[coluna] = df_cat[coluna].fillna(df_cat[coluna].mean())"
   ]
  },
  {
   "cell_type": "code",
   "execution_count": 659,
   "metadata": {},
   "outputs": [
    {
     "data": {
      "text/plain": [
       "Month                    0\n",
       "Occupation               0\n",
       "Type_of_Loan             0\n",
       "Credit_Mix               0\n",
       "Credit_History_Age       0\n",
       "Payment_of_Min_Amount    0\n",
       "Payment_Behaviour        0\n",
       "Credit_Score             0\n",
       "dtype: int64"
      ]
     },
     "execution_count": 659,
     "metadata": {},
     "output_type": "execute_result"
    }
   ],
   "source": [
    "df_cat.isna().sum()"
   ]
  },
  {
   "cell_type": "code",
   "execution_count": 660,
   "metadata": {},
   "outputs": [
    {
     "data": {
      "text/html": [
       "<div>\n",
       "<style scoped>\n",
       "    .dataframe tbody tr th:only-of-type {\n",
       "        vertical-align: middle;\n",
       "    }\n",
       "\n",
       "    .dataframe tbody tr th {\n",
       "        vertical-align: top;\n",
       "    }\n",
       "\n",
       "    .dataframe thead th {\n",
       "        text-align: right;\n",
       "    }\n",
       "</style>\n",
       "<table border=\"1\" class=\"dataframe\">\n",
       "  <thead>\n",
       "    <tr style=\"text-align: right;\">\n",
       "      <th></th>\n",
       "      <th>Month</th>\n",
       "      <th>Occupation</th>\n",
       "      <th>Type_of_Loan</th>\n",
       "      <th>Credit_Mix</th>\n",
       "      <th>Credit_History_Age</th>\n",
       "      <th>Payment_of_Min_Amount</th>\n",
       "      <th>Payment_Behaviour</th>\n",
       "      <th>Credit_Score</th>\n",
       "    </tr>\n",
       "  </thead>\n",
       "  <tbody>\n",
       "    <tr>\n",
       "      <th>0</th>\n",
       "      <td>3</td>\n",
       "      <td>12</td>\n",
       "      <td>128</td>\n",
       "      <td>1.067013</td>\n",
       "      <td>265</td>\n",
       "      <td>0.0</td>\n",
       "      <td>3.000000</td>\n",
       "      <td>2</td>\n",
       "    </tr>\n",
       "    <tr>\n",
       "      <th>1</th>\n",
       "      <td>2</td>\n",
       "      <td>12</td>\n",
       "      <td>128</td>\n",
       "      <td>2.000000</td>\n",
       "      <td>0</td>\n",
       "      <td>0.0</td>\n",
       "      <td>2.000000</td>\n",
       "      <td>2</td>\n",
       "    </tr>\n",
       "    <tr>\n",
       "      <th>2</th>\n",
       "      <td>6</td>\n",
       "      <td>12</td>\n",
       "      <td>128</td>\n",
       "      <td>2.000000</td>\n",
       "      <td>267</td>\n",
       "      <td>0.0</td>\n",
       "      <td>1.000000</td>\n",
       "      <td>2</td>\n",
       "    </tr>\n",
       "    <tr>\n",
       "      <th>3</th>\n",
       "      <td>0</td>\n",
       "      <td>12</td>\n",
       "      <td>128</td>\n",
       "      <td>2.000000</td>\n",
       "      <td>268</td>\n",
       "      <td>0.0</td>\n",
       "      <td>3.278572</td>\n",
       "      <td>2</td>\n",
       "    </tr>\n",
       "    <tr>\n",
       "      <th>4</th>\n",
       "      <td>7</td>\n",
       "      <td>12</td>\n",
       "      <td>128</td>\n",
       "      <td>2.000000</td>\n",
       "      <td>269</td>\n",
       "      <td>0.0</td>\n",
       "      <td>4.000000</td>\n",
       "      <td>2</td>\n",
       "    </tr>\n",
       "  </tbody>\n",
       "</table>\n",
       "</div>"
      ],
      "text/plain": [
       "   Month  Occupation  Type_of_Loan  Credit_Mix Credit_History_Age  \\\n",
       "0      3          12           128    1.067013                265   \n",
       "1      2          12           128    2.000000                  0   \n",
       "2      6          12           128    2.000000                267   \n",
       "3      0          12           128    2.000000                268   \n",
       "4      7          12           128    2.000000                269   \n",
       "\n",
       "   Payment_of_Min_Amount  Payment_Behaviour  Credit_Score  \n",
       "0                    0.0           3.000000             2  \n",
       "1                    0.0           2.000000             2  \n",
       "2                    0.0           1.000000             2  \n",
       "3                    0.0           3.278572             2  \n",
       "4                    0.0           4.000000             2  "
      ]
     },
     "execution_count": 660,
     "metadata": {},
     "output_type": "execute_result"
    }
   ],
   "source": [
    "df_cat.head()"
   ]
  },
  {
   "cell_type": "markdown",
   "metadata": {},
   "source": [
    "### `V de Cramer`"
   ]
  },
  {
   "cell_type": "code",
   "execution_count": 675,
   "metadata": {},
   "outputs": [],
   "source": [
    "from scipy.stats import chi2_contingency\n",
    "\n",
    "def cramers_V(var1,var2) :\n",
    "  crosstab =np.array(pd.crosstab(var1,var2, rownames=None, colnames=None)) # Cross table building\n",
    "  stat = chi2_contingency(crosstab)[0] # Keeping of the test statistic of the Chi2 test\n",
    "  obs = np.sum(crosstab) # Number of observations\n",
    "  mini = min(crosstab.shape)-1 # Take the minimum value between the columns and the rows of the cross table\n",
    "  return (stat/(obs*mini))"
   ]
  },
  {
   "cell_type": "code",
   "execution_count": 676,
   "metadata": {},
   "outputs": [],
   "source": [
    "# Building of the confusion matrix\n",
    "rows= []\n",
    "\n",
    "for var1 in df_cat:\n",
    "  col = []\n",
    "  for var2 in df_cat:\n",
    "    cramers =cramers_V(df_cat[var1], df_cat[var2]) # Cramer's V test\n",
    "    col.append(round(cramers,2)) # Keeping of the rounded value of the Cramer's V  \n",
    "  rows.append(col)\n",
    "  \n",
    "cramers_results = np.array(rows)\n",
    "df_c = pd.DataFrame(cramers_results, columns = df_cat.columns, index =df_cat.columns)"
   ]
  },
  {
   "cell_type": "code",
   "execution_count": 677,
   "metadata": {},
   "outputs": [
    {
     "data": {
      "text/plain": [
       "<AxesSubplot:>"
      ]
     },
     "execution_count": 677,
     "metadata": {},
     "output_type": "execute_result"
    },
    {
     "data": {
      "image/png": "[encoded data removed]",
      "text/plain": [
       "<Figure size 1080x720 with 2 Axes>"
      ]
     },
     "metadata": {
      "needs_background": "light"
     },
     "output_type": "display_data"
    }
   ],
   "source": [
    "fig = plt.gcf()\n",
    "fig.set_size_inches(15,10)\n",
    "sns.heatmap(df_c,annot=True,cmap=\"Blues\")"
   ]
  },
  {
   "cell_type": "code",
   "execution_count": 669,
   "metadata": {},
   "outputs": [
    {
     "name": "stdout",
     "output_type": "stream",
     "text": [
      "(100000, 8)\n",
      "(100000, 16)\n"
     ]
    }
   ],
   "source": [
    "print(df_cat.shape)\n",
    "print(df_num.shape)"
   ]
  },
  {
   "cell_type": "code",
   "execution_count": 672,
   "metadata": {},
   "outputs": [],
   "source": [
    "df_geral = pd.concat([df_cat,df_num],axis=1)"
   ]
  },
  {
   "cell_type": "code",
   "execution_count": 674,
   "metadata": {},
   "outputs": [],
   "source": [
    "df_geral.to_csv(\"../data/df_adjusted.csv\")"
   ]
  }
 ],
 "metadata": {
  "kernelspec": {
   "display_name": "Python 3.9.7 ('rsd')",
   "language": "python",
   "name": "python3"
  },
  "language_info": {
   "codemirror_mode": {
    "name": "ipython",
    "version": 3
   },
   "file_extension": ".py",
   "mimetype": "text/x-python",
   "name": "python",
   "nbconvert_exporter": "python",
   "pygments_lexer": "ipython3",
   "version": "3.9.7"
  },
  "orig_nbformat": 4,
  "vscode": {
   "interpreter": {
    "hash": "50dab69fff78360556d5658a4e20acdc011508dd645a6812d1dd4e32552e63b0"
   }
  }
 },
 "nbformat": 4,
 "nbformat_minor": 2
}
