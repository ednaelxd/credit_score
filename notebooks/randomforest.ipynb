{
 "cells": [
  {
   "cell_type": "code",
   "execution_count": 8,
   "id": "7f801f40",
   "metadata": {},
   "outputs": [],
   "source": [
    "import pandas as pd \n",
    "import numpy as np\n",
    "from sklearn.model_selection import train_test_split\n",
    "from sklearn.metrics import classification_report, confusion_matrix, accuracy_score, precision_score, recall_score, f1_score\n",
    "\n",
    "from sklearn.linear_model import LogisticRegression\n",
    "from sklearn.neighbors import KNeighborsClassifier\n",
    "from sklearn.ensemble import RandomForestClassifier"
   ]
  },
  {
   "cell_type": "code",
   "execution_count": 2,
   "id": "0004ca7c",
   "metadata": {},
   "outputs": [],
   "source": [
    "df = pd.read_csv(\"../data/df_adjusted.csv\")"
   ]
  },
  {
   "cell_type": "code",
   "execution_count": 3,
   "id": "00d11035",
   "metadata": {},
   "outputs": [
    {
     "data": {
      "text/html": [
       "<div>\n",
       "<style scoped>\n",
       "    .dataframe tbody tr th:only-of-type {\n",
       "        vertical-align: middle;\n",
       "    }\n",
       "\n",
       "    .dataframe tbody tr th {\n",
       "        vertical-align: top;\n",
       "    }\n",
       "\n",
       "    .dataframe thead th {\n",
       "        text-align: right;\n",
       "    }\n",
       "</style>\n",
       "<table border=\"1\" class=\"dataframe\">\n",
       "  <thead>\n",
       "    <tr style=\"text-align: right;\">\n",
       "      <th></th>\n",
       "      <th>Month</th>\n",
       "      <th>Occupation</th>\n",
       "      <th>Type_of_Loan</th>\n",
       "      <th>Credit_Mix</th>\n",
       "      <th>Credit_History_Age</th>\n",
       "      <th>Payment_of_Min_Amount</th>\n",
       "      <th>Payment_Behaviour</th>\n",
       "      <th>Credit_Score</th>\n",
       "      <th>Monthly_Inhand_Salary</th>\n",
       "      <th>Num_Bank_Accounts</th>\n",
       "      <th>...</th>\n",
       "      <th>Credit_Utilization_Ratio</th>\n",
       "      <th>Total_EMI_per_month</th>\n",
       "      <th>Changed_Credit_Limit</th>\n",
       "      <th>Amount_invested_monthly</th>\n",
       "      <th>Monthly_Balance</th>\n",
       "      <th>Num_of_Delayed_Payment</th>\n",
       "      <th>Outstanding_Debt</th>\n",
       "      <th>Annual_Income</th>\n",
       "      <th>Num_of_Loan</th>\n",
       "      <th>Age</th>\n",
       "    </tr>\n",
       "  </thead>\n",
       "  <tbody>\n",
       "    <tr>\n",
       "      <th>0</th>\n",
       "      <td>3</td>\n",
       "      <td>12</td>\n",
       "      <td>128</td>\n",
       "      <td>1.067013</td>\n",
       "      <td>265</td>\n",
       "      <td>0.0</td>\n",
       "      <td>3.000000</td>\n",
       "      <td>2</td>\n",
       "      <td>1824.843333</td>\n",
       "      <td>3</td>\n",
       "      <td>...</td>\n",
       "      <td>26.822620</td>\n",
       "      <td>49.574949</td>\n",
       "      <td>11.270000</td>\n",
       "      <td>80.415300</td>\n",
       "      <td>312.49408</td>\n",
       "      <td>7.000000</td>\n",
       "      <td>809.98</td>\n",
       "      <td>19114.12</td>\n",
       "      <td>4.0</td>\n",
       "      <td>23.0</td>\n",
       "    </tr>\n",
       "    <tr>\n",
       "      <th>1</th>\n",
       "      <td>2</td>\n",
       "      <td>12</td>\n",
       "      <td>128</td>\n",
       "      <td>2.000000</td>\n",
       "      <td>0</td>\n",
       "      <td>0.0</td>\n",
       "      <td>2.000000</td>\n",
       "      <td>2</td>\n",
       "      <td>4194.170850</td>\n",
       "      <td>3</td>\n",
       "      <td>...</td>\n",
       "      <td>31.944960</td>\n",
       "      <td>49.574949</td>\n",
       "      <td>11.270000</td>\n",
       "      <td>118.280220</td>\n",
       "      <td>284.62915</td>\n",
       "      <td>30.923342</td>\n",
       "      <td>809.98</td>\n",
       "      <td>19114.12</td>\n",
       "      <td>4.0</td>\n",
       "      <td>23.0</td>\n",
       "    </tr>\n",
       "    <tr>\n",
       "      <th>2</th>\n",
       "      <td>6</td>\n",
       "      <td>12</td>\n",
       "      <td>128</td>\n",
       "      <td>2.000000</td>\n",
       "      <td>267</td>\n",
       "      <td>0.0</td>\n",
       "      <td>1.000000</td>\n",
       "      <td>2</td>\n",
       "      <td>4194.170850</td>\n",
       "      <td>3</td>\n",
       "      <td>...</td>\n",
       "      <td>28.609352</td>\n",
       "      <td>49.574949</td>\n",
       "      <td>10.388834</td>\n",
       "      <td>81.699524</td>\n",
       "      <td>331.20987</td>\n",
       "      <td>7.000000</td>\n",
       "      <td>809.98</td>\n",
       "      <td>19114.12</td>\n",
       "      <td>4.0</td>\n",
       "      <td>-500.0</td>\n",
       "    </tr>\n",
       "    <tr>\n",
       "      <th>3</th>\n",
       "      <td>0</td>\n",
       "      <td>12</td>\n",
       "      <td>128</td>\n",
       "      <td>2.000000</td>\n",
       "      <td>268</td>\n",
       "      <td>0.0</td>\n",
       "      <td>3.278465</td>\n",
       "      <td>2</td>\n",
       "      <td>4194.170850</td>\n",
       "      <td>3</td>\n",
       "      <td>...</td>\n",
       "      <td>31.377862</td>\n",
       "      <td>49.574949</td>\n",
       "      <td>6.270000</td>\n",
       "      <td>199.458070</td>\n",
       "      <td>223.45131</td>\n",
       "      <td>4.000000</td>\n",
       "      <td>809.98</td>\n",
       "      <td>19114.12</td>\n",
       "      <td>4.0</td>\n",
       "      <td>23.0</td>\n",
       "    </tr>\n",
       "    <tr>\n",
       "      <th>4</th>\n",
       "      <td>7</td>\n",
       "      <td>12</td>\n",
       "      <td>128</td>\n",
       "      <td>2.000000</td>\n",
       "      <td>269</td>\n",
       "      <td>0.0</td>\n",
       "      <td>4.000000</td>\n",
       "      <td>2</td>\n",
       "      <td>1824.843333</td>\n",
       "      <td>3</td>\n",
       "      <td>...</td>\n",
       "      <td>24.797347</td>\n",
       "      <td>49.574949</td>\n",
       "      <td>11.270000</td>\n",
       "      <td>41.420155</td>\n",
       "      <td>341.48923</td>\n",
       "      <td>30.923342</td>\n",
       "      <td>809.98</td>\n",
       "      <td>19114.12</td>\n",
       "      <td>4.0</td>\n",
       "      <td>23.0</td>\n",
       "    </tr>\n",
       "  </tbody>\n",
       "</table>\n",
       "<p>5 rows × 24 columns</p>\n",
       "</div>"
      ],
      "text/plain": [
       "   Month  Occupation  Type_of_Loan  Credit_Mix  Credit_History_Age  \\\n",
       "0      3          12           128    1.067013                 265   \n",
       "1      2          12           128    2.000000                   0   \n",
       "2      6          12           128    2.000000                 267   \n",
       "3      0          12           128    2.000000                 268   \n",
       "4      7          12           128    2.000000                 269   \n",
       "\n",
       "   Payment_of_Min_Amount  Payment_Behaviour  Credit_Score  \\\n",
       "0                    0.0           3.000000             2   \n",
       "1                    0.0           2.000000             2   \n",
       "2                    0.0           1.000000             2   \n",
       "3                    0.0           3.278465             2   \n",
       "4                    0.0           4.000000             2   \n",
       "\n",
       "   Monthly_Inhand_Salary  Num_Bank_Accounts  ...  Credit_Utilization_Ratio  \\\n",
       "0            1824.843333                  3  ...                 26.822620   \n",
       "1            4194.170850                  3  ...                 31.944960   \n",
       "2            4194.170850                  3  ...                 28.609352   \n",
       "3            4194.170850                  3  ...                 31.377862   \n",
       "4            1824.843333                  3  ...                 24.797347   \n",
       "\n",
       "   Total_EMI_per_month  Changed_Credit_Limit  Amount_invested_monthly  \\\n",
       "0            49.574949             11.270000                80.415300   \n",
       "1            49.574949             11.270000               118.280220   \n",
       "2            49.574949             10.388834                81.699524   \n",
       "3            49.574949              6.270000               199.458070   \n",
       "4            49.574949             11.270000                41.420155   \n",
       "\n",
       "   Monthly_Balance  Num_of_Delayed_Payment  Outstanding_Debt  Annual_Income  \\\n",
       "0        312.49408                7.000000            809.98       19114.12   \n",
       "1        284.62915               30.923342            809.98       19114.12   \n",
       "2        331.20987                7.000000            809.98       19114.12   \n",
       "3        223.45131                4.000000            809.98       19114.12   \n",
       "4        341.48923               30.923342            809.98       19114.12   \n",
       "\n",
       "   Num_of_Loan    Age  \n",
       "0          4.0   23.0  \n",
       "1          4.0   23.0  \n",
       "2          4.0 -500.0  \n",
       "3          4.0   23.0  \n",
       "4          4.0   23.0  \n",
       "\n",
       "[5 rows x 24 columns]"
      ]
     },
     "execution_count": 3,
     "metadata": {},
     "output_type": "execute_result"
    }
   ],
   "source": [
    "df.head()"
   ]
  },
  {
   "cell_type": "code",
   "execution_count": 4,
   "id": "065e68da",
   "metadata": {},
   "outputs": [
    {
     "data": {
      "text/plain": [
       "1    53174\n",
       "0    28998\n",
       "2    17828\n",
       "Name: Credit_Score, dtype: int64"
      ]
     },
     "execution_count": 4,
     "metadata": {},
     "output_type": "execute_result"
    }
   ],
   "source": [
    "df['Credit_Score'].value_counts()"
   ]
  },
  {
   "cell_type": "markdown",
   "id": "ce5971c1",
   "metadata": {},
   "source": [
    "# Data division"
   ]
  },
  {
   "cell_type": "code",
   "execution_count": 4,
   "id": "6392d13a",
   "metadata": {},
   "outputs": [],
   "source": [
    "X = df.drop('Credit_Score', axis=1)\n",
    "Y = df['Credit_Score']"
   ]
  },
  {
   "cell_type": "code",
   "execution_count": 6,
   "id": "964da1ff",
   "metadata": {},
   "outputs": [],
   "source": [
    "# # Scaler data\n",
    "# from sklearn.preprocessing import StandardScaler\n",
    "# scaler= StandardScaler()\n",
    "# scaler.fit(X)\n",
    "# X = scaler.transform(X)"
   ]
  },
  {
   "cell_type": "markdown",
   "id": "be8038ed",
   "metadata": {},
   "source": [
    "## Train e test"
   ]
  },
  {
   "cell_type": "code",
   "execution_count": 5,
   "id": "f2313111",
   "metadata": {},
   "outputs": [],
   "source": [
    "X = df.drop('Credit_Score', axis=1)\n",
    "Y = df['Credit_Score']"
   ]
  },
  {
   "cell_type": "code",
   "execution_count": 6,
   "id": "fbd4f99b",
   "metadata": {},
   "outputs": [],
   "source": [
    "X_train, X_test, y_train, y_test = train_test_split(X, Y, test_size=0.3, random_state=42)"
   ]
  },
  {
   "cell_type": "markdown",
   "id": "ddae8281",
   "metadata": {},
   "source": [
    "# Model"
   ]
  },
  {
   "cell_type": "code",
   "execution_count": 9,
   "id": "3a2a4919",
   "metadata": {},
   "outputs": [],
   "source": [
    "rf = RandomForestClassifier()"
   ]
  },
  {
   "cell_type": "code",
   "execution_count": 10,
   "id": "de2b6ad6",
   "metadata": {},
   "outputs": [
    {
     "data": {
      "text/plain": [
       "RandomForestClassifier()"
      ]
     },
     "execution_count": 10,
     "metadata": {},
     "output_type": "execute_result"
    }
   ],
   "source": [
    "rf.fit(X_train, y_train)"
   ]
  },
  {
   "cell_type": "code",
   "execution_count": 11,
   "id": "5c434317",
   "metadata": {},
   "outputs": [],
   "source": [
    "y_pred = rf.predict(X_test)"
   ]
  },
  {
   "cell_type": "code",
   "execution_count": 12,
   "id": "7c2ffda9",
   "metadata": {},
   "outputs": [
    {
     "data": {
      "text/plain": [
       "0.9999857142857143"
      ]
     },
     "execution_count": 12,
     "metadata": {},
     "output_type": "execute_result"
    }
   ],
   "source": [
    "rf.score(X_train, y_train)"
   ]
  },
  {
   "cell_type": "code",
   "execution_count": 13,
   "id": "5f07ba84",
   "metadata": {},
   "outputs": [
    {
     "name": "stdout",
     "output_type": "stream",
     "text": [
      "Accuracy:  0.7841666666666667\n",
      "Precision:  0.7838332415708575\n",
      "Recall:  0.7841666666666667\n",
      "F1 0.7839427435311733\n"
     ]
    }
   ],
   "source": [
    "print(\"Accuracy: \", accuracy_score(y_test, y_pred))\n",
    "print(\"Precision: \", precision_score(y_test, y_pred, average='weighted', labels=np.unique(y_pred)))\n",
    "print(\"Recall: \", recall_score(y_test, y_pred, average='weighted'))\n",
    "print(\"F1\", f1_score(y_test, y_pred, average='weighted'))"
   ]
  },
  {
   "cell_type": "code",
   "execution_count": 14,
   "id": "ac357f94",
   "metadata": {},
   "outputs": [
    {
     "name": "stdout",
     "output_type": "stream",
     "text": [
      "[[ 6969  1651   185]\n",
      " [ 1914 12785  1174]\n",
      " [   52  1499  3771]]\n"
     ]
    }
   ],
   "source": [
    "print(confusion_matrix(y_test, y_pred))"
   ]
  },
  {
   "cell_type": "code",
   "execution_count": 15,
   "id": "1e9d4d30",
   "metadata": {},
   "outputs": [
    {
     "name": "stdout",
     "output_type": "stream",
     "text": [
      "              precision    recall  f1-score   support\n",
      "\n",
      "           0       0.78      0.79      0.79      8805\n",
      "           1       0.80      0.81      0.80     15873\n",
      "           2       0.74      0.71      0.72      5322\n",
      "\n",
      "    accuracy                           0.78     30000\n",
      "   macro avg       0.77      0.77      0.77     30000\n",
      "weighted avg       0.78      0.78      0.78     30000\n",
      "\n"
     ]
    }
   ],
   "source": [
    "print(classification_report(y_test, y_pred, labels=np.unique(y_pred), zero_division=0))"
   ]
  },
  {
   "cell_type": "markdown",
   "id": "1a6c56ea-65a9-4005-97a5-e6edfe8ec28e",
   "metadata": {},
   "source": [
    "# Tuning and Logging"
   ]
  },
  {
   "cell_type": "code",
   "execution_count": 18,
   "id": "83109bd4-6f78-47a3-b911-d228703caf66",
   "metadata": {},
   "outputs": [],
   "source": [
    "import mlflow \n",
    "from sklearn.model_selection import GridSearchCV"
   ]
  },
  {
   "cell_type": "code",
   "execution_count": 21,
   "id": "32d1ec95-3501-4d23-a050-074707082446",
   "metadata": {},
   "outputs": [
    {
     "name": "stderr",
     "output_type": "stream",
     "text": [
      "2022/08/05 14:13:33 WARNING mlflow.utils.autologging_utils: MLflow autologging encountered a warning: \"/Users/aianshay/opt/anaconda3/lib/python3.9/site-packages/mlflow/models/signature.py:129: UserWarning: Hint: Inferred schema contains integer column(s). Integer columns in Python cannot represent missing values. If your input data contains missing values at inference time, it will be encoded as floats and will cause a schema enforcement error. The best way to avoid this problem is to infer the model schema based on a realistic data sample (training dataset) that includes missing values. Alternatively, you can declare integer columns as doubles (float64) whenever these columns may have missing values. See `Handling Integers With Missing Values <https://www.mlflow.org/docs/latest/models.html#handling-integers-with-missing-values>`_ for more details.\"\n",
      "2022/08/05 14:13:38 INFO mlflow.sklearn.utils: Logging the 5 best runs, 31 runs will be omitted.\n"
     ]
    }
   ],
   "source": [
    "rf = RandomForestClassifier()\n",
    "\n",
    "\n",
    "params_grid = { \n",
    "    'n_estimators': [100, 300],\n",
    "    'max_features': ['auto', 'sqrt', 'log2'],\n",
    "    'max_depth' : [4,6,8],\n",
    "    'criterion' :['gini', 'entropy']\n",
    "}\n",
    "\n",
    "\n",
    "grid_search = GridSearchCV(estimator=rf, \n",
    "                           param_grid=params_grid, \n",
    "                           n_jobs=-1, \n",
    "                           cv=5, \n",
    "                           scoring='f1_macro')\n",
    "\n",
    "mlflow.set_experiment('rf-tuning')\n",
    "mlflow.sklearn.autolog()\n",
    "\n",
    "with mlflow.start_run() as run:\n",
    "    grid_search.fit(X_train, y_train)"
   ]
  },
  {
   "cell_type": "code",
   "execution_count": null,
   "id": "54384597-b577-4764-a886-ef3b6bd9f311",
   "metadata": {},
   "outputs": [
    {
     "data": {
      "text/plain": [
       "RandomForestClassifier(max_depth=8, max_features='log2', n_estimators=300)"
      ]
     },
     "execution_count": 22,
     "metadata": {},
     "output_type": "execute_result"
    }
   ],
   "source": [
    "grid_search.best_estimator_"
   ]
  }
 ],
 "metadata": {
  "kernelspec": {
   "display_name": "Python 3 (ipykernel)",
   "language": "python",
   "name": "python3"
  },
  "language_info": {
   "codemirror_mode": {
    "name": "ipython",
    "version": 3
   },
   "file_extension": ".py",
   "mimetype": "text/x-python",
   "name": "python",
   "nbconvert_exporter": "python",
   "pygments_lexer": "ipython3",
   "version": "3.9.7"
  },
  "vscode": {
   "interpreter": {
    "hash": "50dab69fff78360556d5658a4e20acdc011508dd645a6812d1dd4e32552e63b0"
   }
  }
 },
 "nbformat": 4,
 "nbformat_minor": 5
}
